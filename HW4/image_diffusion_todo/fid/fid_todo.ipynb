{
 "cells": [
  {
   "cell_type": "markdown",
   "metadata": {},
   "source": [
    "### TODO:\n",
    "Run the code to mesure FID and report it in this notebook, do it for both 0.0 and 7.5 guidance scales, as requested.\n",
    "###"
   ]
  },
  {
   "cell_type": "code",
   "execution_count": null,
   "metadata": {},
   "outputs": [],
   "source": [
    "######## TODO ########\n",
    "# Edit and run a command to to measure FID between two directories (7.5 scale)\n",
    "%%bash\n",
    "python image_diffusion_todo/fid/measure_fid.py GT_IMG_DIR GEN_IMG_DIR\n",
    "######################"
   ]
  },
  {
   "cell_type": "code",
   "execution_count": null,
   "metadata": {},
   "outputs": [],
   "source": [
    "######## TODO ########\n",
    "# Edit and run a command to to measure FID between two directories (0.0 scale)\n",
    "%%bash\n",
    "python image_diffusion_todo/fid/measure_fid.py GT_IMG_DIR GEN_IMG_DIR\n",
    "######################"
   ]
  }
 ],
 "metadata": {
  "kernelspec": {
   "display_name": "azureml_py38",
   "language": "python",
   "name": "python3"
  },
  "language_info": {
   "name": "python",
   "version": "3.10.8"
  }
 },
 "nbformat": 4,
 "nbformat_minor": 2
}
