{
  "cells": [
    {
      "cell_type": "markdown",
      "id": "c5a94671",
      "metadata": {
        "id": "c5a94671"
      },
      "source": [
        "# Homework 2: DDPM\n",
        "\n",
        "## Section A\n",
        "\n",
        "In this section, we will implement DDPM (**Denoising Diffusion Probabilistic Models**) on a simple 1D Mixture of Gaussians Model.\n",
        "\n",
        "Note that GPUs will not help in any part except the final section with the generation of images (everything else runs in less than a second), so it is recommended to run this part of the homework on a local CPU."
      ]
    },
    {
      "cell_type": "code",
      "execution_count": null,
      "id": "44cd6f1a",
      "metadata": {},
      "outputs": [],
      "source": [
        "import matplotlib.pyplot as plt\n",
        "import matplotlib as mpl\n",
        "import pandas as pd\n",
        "import numpy as np\n",
        "import torch\n",
        "import seaborn as sns\n",
        "import itertools\n",
        "from tqdm.auto import tqdm"
      ]
    },
    {
      "cell_type": "markdown",
      "id": "b53557bd",
      "metadata": {},
      "source": [
        "A Gaussian Mixture Model is a distribution that is the combination of several Gaussian distributions, such as the following:\n",
        "\n",
        "$$\n",
        "X | Y \\sim \\mathcal{N}(\\mu_1, \\sigma_1 I)Y + \\mathcal{N}(\\mu_2, \\sigma_2 I)(1 - Y)\n",
        "$$\n",
        "\n",
        "where $Y \\sim \\text{Ber}(p)$. In our case, $X \\in \\mathbb{R}^1$."
      ]
    },
    {
      "cell_type": "code",
      "execution_count": null,
      "id": "b107ca53",
      "metadata": {},
      "outputs": [],
      "source": [
        "data_distribution = torch.distributions.mixture_same_family.MixtureSameFamily(\n",
        "    torch.distributions.Categorical(torch.tensor([1, 2])),\n",
        "    torch.distributions.Normal(torch.tensor([-4., 4.]), torch.tensor([1., 1.]))\n",
        ")\n",
        "\n",
        "dataset = data_distribution.sample(torch.Size([1000, 1]))\n",
        "sns.histplot(dataset[:, 0], bins=50)\n",
        "plt.show()\n"
      ]
    },
    {
      "cell_type": "code",
      "execution_count": null,
      "id": "8e5122c9",
      "metadata": {},
      "outputs": [],
      "source": [
        "# we will keep these parameters fixed throughout\n",
        "TIME_STEPS = 250\n",
        "BETA = 0.02\n",
        "ALPHA = 1 - BETA\n",
        "ALPHA_BAR = [ALPHA ** i for i in range(TIME_STEPS+1)]"
      ]
    },
    {
      "cell_type": "markdown",
      "id": "d5b6c988",
      "metadata": {},
      "source": [
        "Pay attention - beta is constant, hence $x_{t+1}$ is sampled from $q_t = \\N(\\sqrt{1-\\beta}x_t, \\sqrt{\\beta})$"
      ]
    },
    {
      "cell_type": "markdown",
      "id": "030d51e9",
      "metadata": {},
      "source": [
        "Implement the following functions to perform ddpm and restore the original given distribution. You can add any other functions required."
      ]
    },
    {
      "cell_type": "code",
      "execution_count": null,
      "id": "3cf4d051",
      "metadata": {},
      "outputs": [],
      "source": [
        "def do_diffusion(data, steps=TIME_STEPS, beta=BETA):\n",
        "    ''''\n",
        "    perform diffusion following equation 2\n",
        "    returns a list of q(x(t)) and x(t)\n",
        "    starting from t=0 (i.e., the dataset)\n",
        "    \n",
        "    :param data: torch.Size([1000, 1])\n",
        "    :return samples: list of length TIME_STEPS+1 of torch.Size([1000, 1]) samples from each distribution\n",
        "    :return distributions: list of length TIME_STEPS+1 of Normal(loc: torch.Size([1000, 1]), scale: torch.Size([1000, 1])) distributions\n",
        "    '''\n",
        "\n",
        "\n",
        "    distributions, samples = [None], [data]\n",
        "    xt = data # = data_distribution.sample(torch.Size([1000, 1]))\n",
        "        \n",
        "    #### ADD YOUR CODE HERE ####\n",
        "\n",
        "    #### DONE WITH SOLUTION ####     \n",
        "\n",
        "    return distributions, samples "
      ]
    },
    {
      "cell_type": "markdown",
      "id": "cac6a3e4",
      "metadata": {},
      "source": [
        "Sample and visualize realizations of the forward/diffusion process over time, using samples from do_diffusion(dataset)"
      ]
    },
    {
      "cell_type": "code",
      "execution_count": null,
      "id": "54b23305",
      "metadata": {},
      "outputs": [],
      "source": [
        "_, samples = do_diffusion(dataset)\n",
        "\n",
        "#### ADD YOUR CODE HERE ####\n",
        "\n",
        "#### DONE WITH SOLUTION #### "
      ]
    },
    {
      "cell_type": "markdown",
      "id": "fa22613b",
      "metadata": {},
      "source": [
        "# Training\n",
        "We first use the loss in Equation 3 in the paper without any of the optimizations presented later, which a play significant role for complex, real-world distributions.\n",
        "\n",
        "Diffusion models are trained by first corrupting the training examples, then trying to reconstruct the cleaner examples from the noisy examples at each step of the corruption process. The loss is an upper bound on the negative log likelihood:\n",
        "\n",
        "$L := \\mathbb{E}_q\\left[\n",
        "-\\log p(x_T)\n",
        "-\\sum_{t=1}^T \\log\\frac{p_\\theta(x_{t-1}|x_t)}{q(x_t|x_{t-1})} \n",
        "\\right]$\n",
        "\n",
        "Where the generative model, also called reverse process, has form:\n",
        "\n",
        "$p_\\theta(x_{t-1}|x_t):=\\mathcal{N}(x_{t-1} ; \\mu_\\theta(x_t,t), \\Sigma_\\theta(x_t, t))$\n",
        "\n",
        "Note that we are training two neural networks, $\\mu_\\theta$ and $\\Sigma_\\theta$, which take as input a noisy sample $x_t$ and the step $t$, and try to predict the parameters of the distribution of the sample $x_{t-1}$ to which noise was added. Intuitively, we are training these networks to maximize the predicted probability of observing the uncorrputed example $x_{t-1}$ based on $x_t$ , i.e., the term $p_\\theta(x_{t-1}\\vert x_t)$ in the loss, for each diffusion step. Remember that $x_t$ was generated earlier from $x_{t-1}$ by adding noise; the networks have to learn to undo the noise. The other terms in the loss involving $q(x_t\\vert x_{t-1})$ are not necessary to learn a good generative model, since they are constant, but are useful as a “frame of reference” to make a “perfect” generative model achieve a loss of 0.\n",
        "\n",
        "You should implement the loss in the function below. This function requires the entire diffusion trajectory for the training samples, as well as the two neural networks that define the inverse process:"
      ]
    },
    {
      "cell_type": "code",
      "execution_count": null,
      "id": "c36f5f8c",
      "metadata": {},
      "outputs": [],
      "source": [
        "def compute_loss_equation3(forward_distributions, forward_samples, mean_model, var_model):\n",
        "    \"\"\"\n",
        "    Compute the loss in equation 3\n",
        "    forward = q , reverse = p\n",
        "\n",
        "    :param forward_distributions: list of length TIME_STEPS+1 of Normal(loc: torch.Size([1000, 1]), scale: torch.Size([1000, 1])) distributions\n",
        "    :param forward_samples: list of length TIME_STEPS+1 of torch.Size([1000, 1]) samples from each distribution\n",
        "    :param mean_model: torch.nn.Module\n",
        "    :param var_model: torch.nn.Module\n",
        "    :return: averaged loss over total TIME_STEPS\n",
        "    \"\"\"\n",
        "    #### ADD YOUR CODE HERE ####\n",
        "\n",
        "    #### DONE WITH SOLUTION #### \n"
      ]
    },
    {
      "cell_type": "markdown",
      "id": "62e550da",
      "metadata": {},
      "source": [
        "We also implement and use the loss in Equation 12 in the paper with the suggested optimizations presented."
      ]
    },
    {
      "cell_type": "code",
      "execution_count": null,
      "id": "5907885a",
      "metadata": {},
      "outputs": [],
      "source": [
        "def compute_loss_equation12(forward_samples, noise_model):\n",
        "    \"\"\"\n",
        "    Compute the loss in equation 12\n",
        "    forward = q , reverse = p\n",
        "    :param forward_samples: list of length TIME_STEPS+1 of torch.Size([1000, 1]) samples from each distribution\n",
        "    :param noise_model: torch.nn.Module\n",
        "    :return: averaged loss over TIME_STEPS\n",
        "    \"\"\"\n",
        "    #### ADD YOUR CODE HERE ####\n",
        "\n",
        "    #### DONE WITH SOLUTION #### \n"
      ]
    },
    {
      "cell_type": "code",
      "execution_count": null,
      "id": "a1d1f0ab",
      "metadata": {},
      "outputs": [],
      "source": [
        "def compute_loss(equation, forward_distributions, forward_samples, mean_model, var_model, noise_model):\n",
        "    \"\"\"\n",
        "    Compute the loss according to the given equation (just a wrapper)\n",
        "    :param equation: int\n",
        "    :param forward_distributions: list of length TIME_STEPS+1 of Normal(loc: torch.Size([1000, 1]), scale: torch.Size([1000, 1])) distributions\n",
        "    :param forward_samples: list of length TIME_STEPS+1 of torch.Size([1000, 1]) samples from each distribution\n",
        "    :param mean_model: Optional(torch.nn.Module)=None\n",
        "    :param var_model: Optional(torch.nn.Module)=None\n",
        "    :param noise_model: Optional(torch.nn.Module)=None\n",
        "    :return: averaged loss over TIME_STEPS\n",
        "    \"\"\"\n",
        "    #### ADD YOUR CODE HERE ####\n",
        "\n",
        "    #### DONE WITH SOLUTION #### "
      ]
    },
    {
      "cell_type": "markdown",
      "id": "39c72719",
      "metadata": {},
      "source": [
        "Now define three very simple neural networks to predict the mean/variance/noise, and an optimizer.\n",
        "\n",
        "These networks take two inputs: the noisy sample $x_t$ and the normalized time-step t. The time-step is added as an additional column feature, and, since the input is also one-dimensional, the total input size is two.\n",
        "\n",
        "When you are happy with your simple model architecure, show the training curve for both equations."
      ]
    },
    {
      "cell_type": "code",
      "execution_count": null,
      "id": "eb0163df",
      "metadata": {},
      "outputs": [],
      "source": [
        "#### ADD YOUR CODE HERE ####\n",
        "\n",
        "#### DONE WITH SOLUTION #### "
      ]
    },
    {
      "cell_type": "code",
      "execution_count": null,
      "id": "e039e597",
      "metadata": {},
      "outputs": [],
      "source": [
        "def train_loop(dataset, mean_model, var_model, noise_model, optim):    \n",
        "    \"\"\"\n",
        "    Train the model\n",
        "    :param dataset: torch.Size([1000, 1])\n",
        "    :param mean_model: Optinal(torch.nn.Module) = None\n",
        "    :param var_model: Optinal(torch.nn.Module) = None\n",
        "    :param noise_model: Optinal(torch.nn.Module) = None\n",
        "    :param optim: torch.optim\n",
        "    :return: list of losses by epoch\n",
        "    \"\"\"\n",
        "    loss_history = []\n",
        "    bar = tqdm(range(300))\n",
        "    #### ADD YOUR CODE HERE ####\n",
        "\n",
        "    #### DONE WITH SOLUTION ####    \n",
        "\n",
        "    return loss_history    \n",
        "\n",
        "loss_history = train_loop(dataset, mean_model, var_model, noise_model, optim)\n",
        "plt.plot(loss_history)\n",
        "plt.yscale('log')\n",
        "plt.ylabel('Loss')\n",
        "plt.xlabel('Training step')\n",
        "plt.show()\n"
      ]
    },
    {
      "cell_type": "code",
      "execution_count": null,
      "id": "dcbdc98a",
      "metadata": {},
      "outputs": [],
      "source": [
        "def save_model(model, filepath):\n",
        "    \"\"\"\n",
        "    Save the PyTorch model to a file.\n",
        "    \n",
        "    Args:\n",
        "        model (torch.nn.Module): The PyTorch model to save.\n",
        "        filepath (str): The path to save the model file.\n",
        "    \"\"\"\n",
        "    torch.save(model.state_dict(), filepath)\n",
        "    print(\"Model saved successfully.\")\n",
        "\n",
        "def load_model(model_class, filepath):\n",
        "    \"\"\"\n",
        "    Load a PyTorch model from a file.\n",
        "    \n",
        "    Args:\n",
        "        model_class (torch.nn.Module): The class of the PyTorch model to load.\n",
        "        filepath (str): The path to the saved model file.\n",
        "        \n",
        "    Returns:\n",
        "        model (torch.nn.Module): The loaded PyTorch model.\n",
        "    \"\"\"\n",
        "    model_type = filepath.split(\"/\")[-1].split(\"_\")[0]\n",
        "    #### ADD YOUR CODE HERE ####\n",
        "    if model_type == \"mean\":\n",
        "        model = torch.nn.Sequential(\n",
        "            \n",
        "        )\n",
        "    elif model_type == \"var\":\n",
        "        model = torch.nn.Sequential(\n",
        "            \n",
        "        )\n",
        "    elif model_type == \"noise\":\n",
        "        model = torch.nn.Sequential(\n",
        "            \n",
        "        )\n",
        "    else:\n",
        "        raise ValueError(\"Invalid model type.\")        \n",
        "\n",
        "    #### DONE WITH SOLUTION ####  \n",
        "      \n",
        "    model.load_state_dict(torch.load(filepath), strict=False)\n",
        "    model.eval()\n",
        "    print(\"Model loaded successfully.\")\n",
        "    return model\n",
        "\n",
        "#save_model(mean_model, \"models/mean_model.pth\")\n",
        "#save_model(var_model, \"models/var_model.pth\")\n",
        "#save_model(noise_model, \"models/noise_model.pth\")\n",
        "\n",
        "\n",
        "#mean_model = load_model(torch.nn.Sequential, \"models/mean_model.pth\")\n",
        "#var_model = load_model(torch.nn.Sequential, \"models/var_model.pth\")\n",
        "#noise_model = load_model(torch.nn.Sequential, \"models/noise_model.pth\")"
      ]
    },
    {
      "cell_type": "markdown",
      "id": "4d6ab787",
      "metadata": {},
      "source": [
        "# Sampling\n",
        "Implement the original paper's sampling procedure, for both equations 3,12"
      ]
    },
    {
      "cell_type": "code",
      "execution_count": null,
      "id": "14766465",
      "metadata": {},
      "outputs": [],
      "source": [
        "def sample_reverse_equation3(mean_model, var_model, count, steps=TIME_STEPS):\n",
        "    \"\"\"\n",
        "    Sample from the reverse process using equation 3\n",
        "    :param mean_model: torch.nn.Module\n",
        "    :param var_model: torch.nn.Module\n",
        "    :param count: int\n",
        "    :param steps: int\n",
        "    :return: sample_history, a list of torch.Size([count, 1]) samples\n",
        "    \"\"\"\n",
        "    #### ADD YOUR CODE HERE ####\n",
        "    \n",
        "    #### DONE WITH SOLUTION ####\n",
        "    return sample_history\n",
        "\n",
        "def sample_reverse_equation12(noise_model, count, steps=TIME_STEPS):\n",
        "    \"\"\"\n",
        "    Sample from the reverse process using equation 12\n",
        "    :param noise_model: torch.nn.Module\n",
        "    :param count: int\n",
        "    :param steps: int\n",
        "    :return: sample_history, a list of torch.Size([count, 1]) samples\n",
        "    \"\"\"\n",
        "    #### ADD YOUR CODE HERE ####\n",
        "\n",
        "    #### DONE WITH SOLUTION ####    \n",
        "        \n",
        "    return sample_history"
      ]
    },
    {
      "cell_type": "code",
      "execution_count": null,
      "id": "d7f91f1f",
      "metadata": {},
      "outputs": [],
      "source": [
        "def sample_reverse(equation, mean_model, var_model, noise_model, count, steps=1000):\n",
        "    \"\"\"\n",
        "    Sample from the reverse process using the given equation, it's a wrapper\n",
        "    :param equation: int\n",
        "    :param mean_model: Optional(torch.nn.Module)=None\n",
        "    :param var_model: Optional(torch.nn.Module)=None\n",
        "    :param noise_model: Optional(torch.nn.Module)=None\n",
        "    :param count: int\n",
        "    :param steps: int\n",
        "    :return: sample_history, a list of torch.Size([count, 1]) samples\n",
        "    \"\"\"\n",
        "    #### ADD YOUR CODE HERE ####\n",
        "\n",
        "    #### DONE WITH SOLUTION ####"
      ]
    },
    {
      "cell_type": "markdown",
      "id": "1f45b1d7",
      "metadata": {},
      "source": [
        "Show us your reverse sampling, x axis is time, y axis it the sampled process realization value.\n",
        "\n",
        "Afterwards, compare the original distribution, with each of the estimated distributions, seperatly. \n",
        "\n",
        "Add at the end of this section, where do you think the diffrence between the FIDs and the charts is coming from."
      ]
    },
    {
      "cell_type": "code",
      "execution_count": null,
      "id": "877c13cc",
      "metadata": {},
      "outputs": [],
      "source": [
        "#### ADD YOUR CODE HERE ####\n",
        "\n",
        "\n",
        "#### DONE WITH SOLUTION ####"
      ]
    },
    {
      "cell_type": "code",
      "execution_count": null,
      "id": "2a32b8d6",
      "metadata": {},
      "outputs": [],
      "source": [
        "#### ADD YOUR CODE HERE ####\n",
        "\n",
        "#### DONE WITH SOLUTION ####"
      ]
    },
    {
      "cell_type": "code",
      "execution_count": null,
      "id": "65af86a5",
      "metadata": {},
      "outputs": [],
      "source": [
        "import numpy as np\n",
        "from scipy.linalg import sqrtm\n",
        "\n",
        "def compare_fid(data_distribution, mean_model, var_model, noise_model, count=10000):\n",
        "    \"\"\"\n",
        "    Calculate the Frechet Inception Distance (FID) between the target distribution and the generated samples, uzilizing scipy.linalg.sqrtm\n",
        "    :param data_distribution: torch.distributions.mixture_same_family.MixtureSameFamily\n",
        "    :param mean_model: torch.nn.Module\n",
        "    :param var_model: torch.nn.Module\n",
        "    :param noise_model: torch.nn.Module\n",
        "    :param count: int\n",
        "    \"\"\"\n",
        "    \n",
        "    original_samples = data_distribution.sample(torch.Size([10000, 1]))  # from your target distribution\n",
        "    generated_samples_3 =  torch.stack(sample_reverse(3, mean_model, var_model, noise_model, 10000))[-1, :, 0] # from your trained model\n",
        "    generated_samples_12 =  torch.stack(sample_reverse(12, mean_model, var_model, noise_model, 10000))[-1, :, 0] # from your trained model\n",
        "\n",
        "    #### ADD YOUR CODE HERE ####\n",
        "\n",
        "        \n",
        "    #### DONE WITH SOLUTION ####    \n",
        "\n",
        "\n",
        "compare_fid(data_distribution, mean_model, var_model, noise_model, count=10000)"
      ]
    },
    {
      "cell_type": "code",
      "execution_count": null,
      "id": "7f5e1840",
      "metadata": {},
      "outputs": [],
      "source": [
        "## ADD YOUR HYPOTHESIS REGARDING THE DIFFRENCE HERE - Change this cell into Markdown ##\n",
        "\n",
        "#### DONE WITH SOLUTION ####"
      ]
    },
    {
      "cell_type": "markdown",
      "id": "1e9ac0a7",
      "metadata": {},
      "source": [
        "## Section B\n",
        "\n",
        "In this section, we will implement DDPM on multidimentional, unknown distribution.\n",
        "Same as in previous section, will be based on the original DDPM paper by ([Ho et al., 2020](https://arxiv.org/abs/2006.11239))"
      ]
    },
    {
      "cell_type": "code",
      "execution_count": null,
      "id": "a1f2d714",
      "metadata": {
        "id": "a1f2d714"
      },
      "outputs": [],
      "source": [
        "import math\n",
        "from inspect import isfunction\n",
        "from functools import partial\n",
        "\n",
        "%matplotlib inline\n",
        "import matplotlib.pyplot as plt\n",
        "from tqdm.auto import tqdm\n",
        "from einops import rearrange\n",
        "\n",
        "import torch\n",
        "from torch import nn, einsum\n",
        "import torch.nn.functional as F"
      ]
    },
    {
      "cell_type": "markdown",
      "id": "4b51e67e",
      "metadata": {},
      "source": [
        "### Network helpers"
      ]
    },
    {
      "cell_type": "code",
      "execution_count": null,
      "id": "68907f5d",
      "metadata": {
        "id": "68907f5d"
      },
      "outputs": [],
      "source": [
        "def exists(x):\n",
        "    return x is not None\n",
        "\n",
        "def default(val, d):\n",
        "    if exists(val):\n",
        "        return val\n",
        "    return d() if isfunction(d) else d\n",
        "\n",
        "class Residual(nn.Module):\n",
        "    \"\"\"\n",
        "    simply adds the input to the output of a particular function\n",
        "    \"\"\"\n",
        "    def __init__(self, fn):\n",
        "        super().__init__()\n",
        "        self.fn = fn\n",
        "\n",
        "    def forward(self, x, *args, **kwargs):\n",
        "        return self.fn(x, *args, **kwargs) + x\n",
        "\n",
        "def Upsample(dim):\n",
        "    return nn.ConvTranspose2d(dim, dim, 4, 2, 1)\n",
        "\n",
        "def Downsample(dim):\n",
        "    return nn.Conv2d(dim, dim, 4, 2, 1)"
      ]
    },
    {
      "cell_type": "markdown",
      "id": "237adc69",
      "metadata": {},
      "source": [
        "### Position embeddings\n",
        "\n",
        "As the parameters of the neural network are shared across time (noise level), the authors employ sinusoidal position embeddings to encode $t$.\n"
      ]
    },
    {
      "cell_type": "code",
      "execution_count": null,
      "id": "caa5d1f8",
      "metadata": {},
      "outputs": [],
      "source": [
        "class SinusoidalPositionEmbeddings(nn.Module):\n",
        "    \"\"\"\n",
        "    Sinusoidal position embeddings, as described in the paper\n",
        "    \"\"\"\n",
        "\n",
        "    def __init__(self, dim):\n",
        "        \"\"\"\n",
        "        :param dim: int, the dimension of the embeddings\n",
        "        \"\"\"\n",
        "        super().__init__()\n",
        "        self.dim = dim\n",
        "\n",
        "    def forward(self, time):\n",
        "        \"\"\"\n",
        "        :param time: torch Tenseor of shape (batch_size, 1)\n",
        "        :return: torch Tensor of shape (batch_size, dim)\n",
        "        \"\"\"\n",
        "        device = time.device\n",
        "        half_dim = self.dim // 2\n",
        "        embeddings = math.log(10000) / (half_dim - 1)\n",
        "        embeddings = torch.exp(torch.arange(half_dim, device=device) * -embeddings)\n",
        "        embeddings = time[:, None] * embeddings[None, :]\n",
        "        embeddings = torch.cat((embeddings.sin(), embeddings.cos()), dim=-1)\n",
        "        return embeddings"
      ]
    },
    {
      "cell_type": "markdown",
      "id": "9ff47fbb",
      "metadata": {
        "id": "9ff47fbb"
      },
      "source": [
        "### ResNet block\n",
        "\n",
        "Next, we define the core building block of the U-Net model. The DDPM authors employed a Wide ResNet block."
      ]
    },
    {
      "cell_type": "code",
      "execution_count": null,
      "id": "2c2d1219",
      "metadata": {
        "id": "2c2d1219"
      },
      "outputs": [],
      "source": [
        "class Block(nn.Module):\n",
        "    def __init__(self, dim, dim_out, groups = 8):\n",
        "        super().__init__()\n",
        "        self.proj = nn.Conv2d(dim, dim_out, 3, padding = 1)\n",
        "        self.norm = nn.GroupNorm(groups, dim_out)\n",
        "        self.act = nn.SiLU()\n",
        "\n",
        "    def forward(self, x, scale_shift = None):\n",
        "        x = self.proj(x)\n",
        "        x = self.norm(x)\n",
        "\n",
        "        if exists(scale_shift):\n",
        "            scale, shift = scale_shift\n",
        "            x = x * (scale + 1) + shift\n",
        "\n",
        "        x = self.act(x)\n",
        "        return x\n",
        "\n",
        "class ResnetBlock(nn.Module):\n",
        "\n",
        "    def __init__(self, dim, dim_out, *, time_emb_dim=None, groups=8):\n",
        "        super().__init__()\n",
        "        self.mlp = (\n",
        "            nn.Sequential(nn.SiLU(), nn.Linear(time_emb_dim, dim_out))\n",
        "            if exists(time_emb_dim)\n",
        "            else None\n",
        "        )\n",
        "\n",
        "        self.block1 = Block(dim, dim_out, groups=groups)\n",
        "        self.block2 = Block(dim_out, dim_out, groups=groups)\n",
        "        self.res_conv = nn.Conv2d(dim, dim_out, 1) if dim != dim_out else nn.Identity()\n",
        "\n",
        "    def forward(self, x, time_emb=None):\n",
        "        h = self.block1(x)\n",
        "\n",
        "        if exists(self.mlp) and exists(time_emb):\n",
        "            time_emb = self.mlp(time_emb)\n",
        "            h = rearrange(time_emb, \"b c -> b c 1 1\") + h\n",
        "\n",
        "        h = self.block2(h)\n",
        "        return h + self.res_conv(x)\n"
      ]
    },
    {
      "cell_type": "markdown",
      "id": "51d9a24c",
      "metadata": {
        "id": "51d9a24c"
      },
      "source": [
        "### Attention module\n",
        "\n",
        "Next, we define the attention module, which the DDPM authors added in between the convolutional blocks. \n"
      ]
    },
    {
      "cell_type": "code",
      "execution_count": null,
      "id": "07bbd544",
      "metadata": {
        "id": "07bbd544"
      },
      "outputs": [],
      "source": [
        "class Attention(nn.Module):\n",
        "    def __init__(self, dim, heads=4, dim_head=32):\n",
        "        super().__init__()\n",
        "        self.scale = dim_head**-0.5\n",
        "        self.heads = heads\n",
        "        hidden_dim = dim_head * heads\n",
        "        self.to_qkv = nn.Conv2d(dim, hidden_dim * 3, 1, bias=False)\n",
        "        self.to_out = nn.Conv2d(hidden_dim, dim, 1)\n",
        "\n",
        "    def forward(self, x):\n",
        "        b, c, h, w = x.shape\n",
        "        qkv = self.to_qkv(x).chunk(3, dim=1)\n",
        "        q, k, v = map(\n",
        "            lambda t: rearrange(t, \"b (h c) x y -> b h c (x y)\", h=self.heads), qkv\n",
        "        )\n",
        "        q = q * self.scale\n",
        "\n",
        "        sim = einsum(\"b h d i, b h d j -> b h i j\", q, k)\n",
        "        sim = sim - sim.amax(dim=-1, keepdim=True).detach()\n",
        "        attn = sim.softmax(dim=-1)\n",
        "\n",
        "        out = einsum(\"b h i j, b h d j -> b h i d\", attn, v)\n",
        "        out = rearrange(out, \"b h (x y) d -> b (h d) x y\", x=h, y=w)\n",
        "        return self.to_out(out)\n",
        "\n",
        "class LinearAttention(nn.Module):\n",
        "    def __init__(self, dim, heads=4, dim_head=32):\n",
        "        super().__init__()\n",
        "        self.scale = dim_head**-0.5\n",
        "        self.heads = heads\n",
        "        hidden_dim = dim_head * heads\n",
        "        self.to_qkv = nn.Conv2d(dim, hidden_dim * 3, 1, bias=False)\n",
        "\n",
        "        self.to_out = nn.Sequential(nn.Conv2d(hidden_dim, dim, 1),\n",
        "                                    nn.GroupNorm(1, dim))\n",
        "\n",
        "    def forward(self, x):\n",
        "        b, c, h, w = x.shape\n",
        "        qkv = self.to_qkv(x).chunk(3, dim=1)\n",
        "        q, k, v = map(\n",
        "            lambda t: rearrange(t, \"b (h c) x y -> b h c (x y)\", h=self.heads), qkv\n",
        "        )\n",
        "\n",
        "        q = q.softmax(dim=-2)\n",
        "        k = k.softmax(dim=-1)\n",
        "\n",
        "        q = q * self.scale\n",
        "        context = torch.einsum(\"b h d n, b h e n -> b h d e\", k, v)\n",
        "\n",
        "        out = torch.einsum(\"b h d e, b h d n -> b h e n\", context, q)\n",
        "        out = rearrange(out, \"b h c (x y) -> b (h c) x y\", h=self.heads, x=h, y=w)\n",
        "        return self.to_out(out)"
      ]
    },
    {
      "cell_type": "markdown",
      "id": "9a8031b0",
      "metadata": {
        "id": "9a8031b0"
      },
      "source": [
        "### Group normalization\n",
        "\n",
        "The DDPM authors interleave the convolutional/attention layers of the U-Net with group normalization."
      ]
    },
    {
      "cell_type": "code",
      "execution_count": null,
      "id": "5e2ce68f",
      "metadata": {
        "id": "5e2ce68f"
      },
      "outputs": [],
      "source": [
        "class PreNorm(nn.Module):\n",
        "    def __init__(self, dim, fn):\n",
        "        super().__init__()\n",
        "        self.fn = fn\n",
        "        self.norm = nn.GroupNorm(1, dim)\n",
        "\n",
        "    def forward(self, x):\n",
        "        x = self.norm(x)\n",
        "        return self.fn(x)"
      ]
    },
    {
      "cell_type": "markdown",
      "id": "06b3fad0",
      "metadata": {
        "id": "06b3fad0"
      },
      "source": [
        "### Conditional U-Net\n",
        "\n",
        "Now that we've defined all building blocks (position embeddings, ResNet blocks, attention and group normalization), it's time to define the entire neural network. Recall that the job of the network $\\mathbf{\\epsilon}_\\theta(\\mathbf{x}_t, t)$ is to take in a batch of noisy images + noise levels, and output the noise added to the input. More formally:\n",
        "\n",
        "The network is built up as follows:\n",
        "* first, a convolutional layer is applied on the batch of noisy images, and position embeddings are computed for the noise levels\n",
        "* next, a sequence of downsampling stages are applied. Each downsampling stage consists of 2 ResNet blocks + groupnorm + attention (optionally linear) + residual connection + a downsample operation\n",
        "* at the middle of the network, again ResNet blocks are applied, interleaved with attention\n",
        "* next, a sequence of upsampling stages are applied. Each upsampling stage consists of 2 ResNet blocks + groupnorm + attention (optionally linear) + residual connection + an upsample operation\n",
        "* finally, a ResNet block followed by a convolutional layer is applied.\n",
        "\n",
        "Watch carefully every element of this architecture, what it is doing, which input shape and output shape it has."
      ]
    },
    {
      "cell_type": "code",
      "execution_count": null,
      "id": "3a159023",
      "metadata": {
        "id": "3a159023"
      },
      "outputs": [],
      "source": [
        "class Unet(nn.Module):\n",
        "    \"\"\"\n",
        "    Unet architecture for diffusion models\n",
        "    the network takes a batch of noisy images of shape (batch_size, num_channels, height, width) \n",
        "    and a batch of noise levels of shape (batch_size, 1) as input\n",
        "    and returns a tensor of shape (batch_size, num_channels, height, width)\n",
        "    \"\"\"\n",
        "    def __init__(\n",
        "        self,\n",
        "        dim,\n",
        "        init_dim=None,\n",
        "        out_dim=None,\n",
        "        dim_mults=(1, 2, 4, 8),\n",
        "        channels=3,\n",
        "        with_time_emb=True,\n",
        "        resnet_block_groups=1\n",
        "    ):\n",
        "        super().__init__()\n",
        "\n",
        "        #### ADD YOUR CODE HERE ####\n",
        "\n",
        "\n",
        "        #### DONE WITH SOLUTION ####\n",
        "\n",
        "    def forward(self, x, time):\n",
        "        \"\"\"\n",
        "        :param x: torch Tensor of shape (batch_size, channels, height, width)\n",
        "        :param time: torch Tensor of shape (batch_size, 1)\n",
        "        :return: torch Tensor of shape (batch_size, channels, height, width)\n",
        "        \"\"\"\n",
        "\n",
        "        #### ADD YOUR CODE HERE ####\n",
        "\n",
        "\n",
        "        #### DONE WITH SOLUTION ####"
      ]
    },
    {
      "cell_type": "markdown",
      "id": "a30368b2",
      "metadata": {
        "id": "a30368b2"
      },
      "source": [
        "## Defining the forward diffusion process\n",
        "\n",
        "The forward diffusion process gradually adds noise to an image from the real distribution, in a number of time steps $T$, according to a **variance schedule**.\n",
        "\n",
        "Implement both."
      ]
    },
    {
      "cell_type": "code",
      "execution_count": null,
      "id": "5d751df2",
      "metadata": {
        "id": "5d751df2"
      },
      "outputs": [],
      "source": [
        "def linear_beta_schedule(timesteps):\n",
        "    \"\"\"\n",
        "    set the forward process variances to constants\n",
        "    increasing linearly from beta_1 = 0.0001 to beta_T = 0.02.\n",
        "    :param timesteps: int\n",
        "    :return: torch Tensor of shape (timesteps,)\n",
        "    \"\"\"\n",
        "    #### ADD YOUR CODE HERE ####\n",
        "\n",
        "    #### DONE WITH SOLUTION ####\n",
        "    return torch.linspace(beta_start, beta_end, timesteps)\n",
        "    \n",
        "\n",
        "def cosine_beta_schedule(timesteps, s=0.008):\n",
        "    \"\"\"\n",
        "    cosine schedule ([Nichol et al., 2021](https://arxiv.org/abs/2102.09672))\n",
        "    :param timesteps: int\n",
        "    :param s: float\n",
        "    :return: torch Tensor of shape (timesteps,)\n",
        "    \"\"\"\n",
        "    #### ADD YOUR CODE HERE ####\n",
        "\n",
        "    #### DONE WITH SOLUTION ####\n",
        "    return torch.clip(betas, 0.0001, 0.9999)\n",
        "    "
      ]
    },
    {
      "cell_type": "markdown",
      "id": "6bfc3841",
      "metadata": {
        "id": "6bfc3841"
      },
      "source": [
        "To start with, let's use the linear schedule for $T=200$ time steps.\n",
        "\n",
        "Define the variables $\\beta_t$, $\\alpha_t$ for each $t$, the cumulative product of the variances $\\bar{\\alpha}_t$, and every other variable that is helpful.\n",
        "\n",
        "Each should be a 1-dimensional tensors, storing values from $t$ to $T$. Later use the extact function to extract the appropriate $t$ index for a batch of indices.\n"
      ]
    },
    {
      "cell_type": "code",
      "execution_count": null,
      "id": "cc57b01f",
      "metadata": {
        "id": "cc57b01f"
      },
      "outputs": [],
      "source": [
        "timesteps = 200\n",
        "\n",
        "# define beta schedule\n",
        "betas = linear_beta_schedule(timesteps=timesteps)\n",
        "\n",
        "\n",
        "# define alphas\n",
        "#### ADD YOUR CODE HERE ####\n",
        "alphas = \n",
        "alphas_cumprod = \n",
        "alphas_cumprod_prev = F.pad(alphas_cumprod[:-1], (1, 0), value=1.0)\n",
        "sqrt_recip_alphas = \n",
        "#### DONE WITH SOLUTION ####\n",
        "\n",
        "# calculations for diffusion q(x_t | x_{t-1}) and others\n",
        "#### ADD YOUR CODE HERE ####\n",
        "sqrt_alphas_cumprod = \n",
        "sqrt_one_minus_alphas_cumprod = \n",
        "#### DONE WITH SOLUTION ####\n",
        "\n",
        "# calculations for posterior q(x_{t-1} | x_t, x_0)\n",
        "posterior_variance = betas * (1. - alphas_cumprod_prev) / (1. - alphas_cumprod)\n",
        "\n",
        "def extract(a, t, x_shape):\n",
        "    # extracts the appropriate $t$ index for a batch of indices\n",
        "    batch_size = t.shape[0]\n",
        "    out = a.gather(-1, t.cpu())\n",
        "    return out.reshape(batch_size, *((1,) * (len(x_shape) - 1))).to(t.device)"
      ]
    },
    {
      "cell_type": "markdown",
      "id": "4bde062f",
      "metadata": {
        "id": "4bde062f"
      },
      "source": [
        "From the DPPM paper:\n",
        "\n",
        "> We assume that image data consists of integers in $\\{0, 1, ... , 255\\}$ scaled linearly to $[−1, 1]$. This\n",
        "ensures that the neural network reverse process operates on consistently scaled inputs starting from\n",
        "the standard normal prior $p(\\mathbf{x}_T )$."
      ]
    },
    {
      "cell_type": "code",
      "execution_count": null,
      "id": "71aba861",
      "metadata": {
        "id": "71aba861"
      },
      "outputs": [],
      "source": [
        "from torchvision.transforms import Compose, ToTensor, Lambda, ToPILImage, CenterCrop, Resize\n",
        "import numpy as np\n",
        "from PIL import Image\n",
        "import requests\n",
        "\n",
        "image_size = 32\n",
        "transform = Compose([\n",
        "    Resize(image_size),\n",
        "    CenterCrop(image_size),\n",
        "    ToTensor(), # turn into Numpy array of shape HWC, divide by 255\n",
        "    Lambda(lambda t: (t * 2) - 1),\n",
        "\n",
        "])\n",
        "\n",
        "reverse_transform = Compose([\n",
        "     Lambda(lambda t: (t + 1) / 2),\n",
        "     Lambda(lambda t: t.permute(1, 2, 0)), # CHW to HWC\n",
        "     Lambda(lambda t: t * 255.),\n",
        "     Lambda(lambda t: t.numpy().astype(np.uint8)),\n",
        "     ToPILImage(),\n",
        "])\n",
        "\n",
        "url = 'some-url-to-an-image'\n",
        "image = Image.open(requests.get(url, stream=True).raw)\n",
        "x_start = transform(image).unsqueeze(0)\n",
        "x_start.shape\n",
        "reverse_transform(x_start.squeeze())"
      ]
    },
    {
      "cell_type": "markdown",
      "id": "768b70fb",
      "metadata": {},
      "source": [
        "### Forward/ Diffusion process ###"
      ]
    },
    {
      "cell_type": "code",
      "execution_count": null,
      "id": "f3752480",
      "metadata": {
        "id": "f3752480"
      },
      "outputs": [],
      "source": [
        "# forward diffusion q(x_t | x_0)\n",
        "def q_sample(x_start, t, noise=None):\n",
        "    \"\"\"\n",
        "    q_sample function for diffusion process\n",
        "    :param x_start: torch Tensor of shape (batch_size, channels, height, width)\n",
        "    :param t: torch Tensor of shape (batch_size, 1)\n",
        "    :param noise: Optional(torch.Tensor) = None\n",
        "    :return: torch Tensor of shape (batch_size, channels, height, width)\n",
        "    \"\"\"\n",
        "    #### ADD YOUR CODE HERE ####\n",
        "\n",
        "    #### DONE WITH SOLUTION ####"
      ]
    },
    {
      "cell_type": "markdown",
      "id": "e82bac28",
      "metadata": {
        "id": "e82bac28"
      },
      "source": [
        "Test your result on a particular time step:"
      ]
    },
    {
      "cell_type": "code",
      "execution_count": null,
      "id": "6bd64f89",
      "metadata": {
        "id": "6bd64f89"
      },
      "outputs": [],
      "source": [
        "def get_noisy_image(x_start, t):\n",
        "  # add noise\n",
        "  x_noisy = q_sample(x_start, t=t)\n",
        "\n",
        "  # turn back into PIL image\n",
        "  noisy_image = reverse_transform(x_noisy.squeeze())\n",
        "\n",
        "  return noisy_image\n",
        "\n",
        "#### ADD YOUR CODE HERE ####\n",
        "\n",
        "#### DONE WITH SOLUTION ####"
      ]
    },
    {
      "cell_type": "markdown",
      "id": "003e1d95",
      "metadata": {
        "id": "003e1d95"
      },
      "source": [
        "Now visualize this for various time steps:"
      ]
    },
    {
      "cell_type": "code",
      "execution_count": null,
      "id": "8e27c37d",
      "metadata": {
        "id": "8e27c37d"
      },
      "outputs": [],
      "source": [
        "import matplotlib.pyplot as plt\n",
        "\n",
        "# use seed for reproducability\n",
        "torch.manual_seed(0)\n",
        "\n",
        "#### ADD YOUR CODE HERE ####\n",
        "def plot(imgs, with_orig=False, row_title=None, **imshow_kwargs):\n",
        "    \"\"\"\n",
        "    Plot a list of images in a grid.\n",
        "    :param imgs: list of images to plot\n",
        "    :param with_orig: bool, whether to include the original image\n",
        "    :param row_title: list of titles for each row\n",
        "    :param imshow_kwargs: additional arguments for imshow\n",
        "    \"\"\"\n",
        "\n",
        "#### DONE WITH SOLUTION ####\n",
        "\n",
        "plot([get_noisy_image(x_start, torch.tensor([t])) for t in [0, 50, 100, 150, 199]])\n"
      ]
    },
    {
      "cell_type": "markdown",
      "id": "4a205c24",
      "metadata": {
        "id": "4a205c24"
      },
      "source": [
        "Define the loss function given the model. Use the U-Net defined above.\n"
      ]
    },
    {
      "cell_type": "code",
      "execution_count": null,
      "id": "7725f6cf",
      "metadata": {
        "id": "7725f6cf"
      },
      "outputs": [],
      "source": [
        "def p_losses(denoise_model, x_start, t, noise=None, loss_type=\"l1\"):\n",
        "    if noise is None:\n",
        "        noise = torch.randn_like(x_start)\n",
        "\n",
        "    #### ADD YOUR CODE HERE ####\n",
        "\n",
        "    #### DONE WITH SOLUTION ####\n",
        "\n",
        "    if loss_type == 'l1':\n",
        "        loss = F.l1_loss(noise, predicted_noise)\n",
        "    elif loss_type == 'l2':\n",
        "        loss = F.mse_loss(noise, predicted_noise)\n",
        "    else:\n",
        "        raise NotImplementedError()\n",
        "\n",
        "    return loss"
      ]
    },
    {
      "cell_type": "markdown",
      "id": "f435a1a8",
      "metadata": {},
      "source": [
        "## Define a PyTorch Dataset + DataLoader\n",
        "\n",
        "The dataset is Fashion-MNIST, to easily load the Fashion MNIST dataset from the [hub](https://huggingface.co/datasets/fashion_mnist). \n",
        "The images suppose to be 28x28 grayscale images, scaled linearly to $[-1, 1]$.\n",
        "\n",
        "Implement a PyTorch Dataset class that loads the images and applies wanted transformations on-the-fly, and a DataLoader to load the dataset in batches.\n"
      ]
    },
    {
      "cell_type": "code",
      "execution_count": null,
      "id": "6134d691",
      "metadata": {
        "id": "6134d691"
      },
      "outputs": [],
      "source": [
        "from datasets import load_dataset\n",
        "from torchvision import transforms\n",
        "from torch.utils.data import DataLoader\n",
        "\n",
        "#### ADD YOUR CODE HERE ####\n",
        "\n",
        "#### DONE WITH SOLUTION ####\n"
      ]
    },
    {
      "attachments": {
        "Sampling.png": {
          "image/png": "[encoded data removed]"
        }
      },
      "cell_type": "markdown",
      "id": "2083144e",
      "metadata": {},
      "source": [
        "## Sampling\n",
        "\n",
        "Implement sampling algorithm 2 from the original paper: \n",
        "\n",
        "![Sampling.png](attachment:Sampling.png)"
      ]
    },
    {
      "cell_type": "code",
      "execution_count": null,
      "id": "f7628fb3",
      "metadata": {
        "id": "f7628fb3"
      },
      "outputs": [],
      "source": [
        "\n",
        "@torch.no_grad()\n",
        "def p_sample(model, x, t, t_index):\n",
        "    \"\"\"\n",
        "    p_sample function for reverse process\n",
        "    :param model: torch.nn.Module\n",
        "    :param x: torch Tensor of shape (batch_size, channels, height, width)\n",
        "    :param t: torch Tensor of shape (batch_size, 1)\n",
        "    :param t_index: int\n",
        "    :return: torch Tensor of shape (batch_size, channels, height, width)\n",
        "    \"\"\"\n",
        "    #### ADD YOUR CODE HERE ####\n",
        "\n",
        "    #### DONE WITH SOLUTION ####\n",
        "\n",
        "    if t_index == 0:\n",
        "        return model_mean\n",
        "    else:\n",
        "        #### ADD YOUR CODE HERE ####\n",
        "\n",
        "        #### DONE WITH SOLUTION ####\n",
        "\n",
        "\n",
        "# Algorithm 2 but save all images:\n",
        "@torch.no_grad()\n",
        "def p_sample_loop(model, shape):\n",
        "    device = next(model.parameters()).device\n",
        "\n",
        "    b = shape[0]\n",
        "    # start from pure noise (for each example in the batch)\n",
        "    img = torch.randn(shape, device=device)\n",
        "    imgs = []\n",
        "\n",
        "    for i in tqdm(reversed(range(0, timesteps)), desc='sampling loop time step', total=timesteps):\n",
        "        img = p_sample(model, img, torch.full((b,), i, device=device, dtype=torch.long), i)\n",
        "        imgs.append(img.cpu().numpy())\n",
        "    return imgs\n",
        "\n",
        "@torch.no_grad()\n",
        "def sample(model, image_size, batch_size=16, channels=3):\n",
        "    return p_sample_loop(model, shape=(batch_size, channels, image_size, image_size))\n",
        "\n"
      ]
    },
    {
      "attachments": {
        "Training.png": {
          "image/png": "[encoded data removed]"
        }
      },
      "cell_type": "markdown",
      "id": "f70235f8",
      "metadata": {
        "id": "f70235f8"
      },
      "source": [
        "## Train the model\n",
        "\n",
        "Implement training algorithm 1 from the original paper: \n",
        "\n",
        "![Training.png](attachment:Training.png)"
      ]
    },
    {
      "cell_type": "code",
      "execution_count": null,
      "id": "431c16c7",
      "metadata": {},
      "outputs": [],
      "source": [
        "from torch.optim import Adam\n",
        "\n",
        "device = \"cuda\" if torch.cuda.is_available() else \"cpu\"\n",
        "\n",
        "model = Unet(\n",
        "    dim=image_size,\n",
        "    channels=channels,\n",
        "    dim_mults=(1, 2, 4,)\n",
        ")\n",
        "model.to(device)\n",
        "\n",
        "optimizer = Adam(model.parameters(), lr=1e-3)"
      ]
    },
    {
      "cell_type": "code",
      "execution_count": null,
      "id": "92b12ed1",
      "metadata": {
        "id": "92b12ed1"
      },
      "outputs": [],
      "source": [
        "from torchvision.utils import save_image\n",
        "from pathlib import Path\n",
        "\n",
        "#### ADD YOUR CODE HERE ####\n",
        "\n",
        "\n",
        "#### DONE WITH SOLUTION ####        "
      ]
    },
    {
      "cell_type": "markdown",
      "id": "a8337c82",
      "metadata": {
        "id": "a8337c82"
      },
      "source": [
        "# Sampling (inference)\n",
        "\n",
        "To sample from the model, you can just use the sample function defined above.\n",
        "\n",
        "### Sample at least 64 images for submission.\n",
        "\n",
        "### The zip file should follow the format \"HW\\{\\#assignment\\}\\_\\{id\\}.\\{extension\\}\" (according to the course syllabus).\n",
        "\n",
        "### Images within the zip should be .png or .jpg.\n"
      ]
    },
    {
      "cell_type": "code",
      "execution_count": null,
      "id": "_s-Al2lJ2c8T",
      "metadata": {
        "id": "_s-Al2lJ2c8T"
      },
      "outputs": [],
      "source": [
        "# sample 64 images\n",
        "samples = sample(model, image_size=image_size, batch_size=64, channels=channels)\n",
        "\n",
        "#### ADD YOUR CODE HERE ####\n",
        "\n",
        "\n",
        "#### DONE WITH SOLUTION ####"
      ]
    },
    {
      "cell_type": "markdown",
      "id": "0k4H1fmlKvzR",
      "metadata": {
        "id": "0k4H1fmlKvzR"
      },
      "source": [
        "Run the following code to show us the denoising process \n",
        "Or Create an animation of the denoising process - for a specific sample <random_index>:"
      ]
    },
    {
      "cell_type": "code",
      "execution_count": null,
      "id": "spE1I9aVNwzZ",
      "metadata": {
        "id": "spE1I9aVNwzZ"
      },
      "outputs": [],
      "source": [
        "import imageio\n",
        "import numpy as np\n",
        "from torchvision.transforms import ToPILImage\n",
        "import torch\n",
        "from IPython.display import Image as IPyImage, display\n",
        "\n",
        "to_pil = ToPILImage()\n",
        "\n",
        "random_index = 53\n",
        "frames = []\n",
        "\n",
        "for i in range(timesteps):\n",
        "    img_array = samples[i][random_index]  # assumed shape [C, H, W]\n",
        "\n",
        "    if isinstance(img_array, np.ndarray):\n",
        "        img_array = (img_array + 1) / 2\n",
        "        img_array = np.clip(img_array, 0, 1)\n",
        "        img_tensor = torch.from_numpy(img_array)\n",
        "    else:\n",
        "        img_tensor = (img_array + 1) / 2\n",
        "        img_tensor = img_tensor.clamp(0, 1)\n",
        "\n",
        "    img = to_pil(img_tensor)\n",
        "    frames.append(np.array(img))\n",
        "\n",
        "gif_path = \"diffusion.gif\"\n",
        "imageio.mimsave(gif_path, frames, duration=0.05)\n",
        "\n",
        "display(IPyImage(filename=\"diffusion.gif\", width=512, height=512))"
      ]
    },
    {
      "cell_type": "markdown",
      "id": "14be6008",
      "metadata": {},
      "source": [
        "### The code file should follow the format \"HW\\{\\#assignment\\}\\_\\{id\\}.\\{extension\\}\" (according to the course syllabus).\n"
      ]
    }
  ],
  "metadata": {
    "colab": {
      "collapsed_sections": [
        "6fe49a34",
        "2d747688",
        "5153024b",
        "592aa765",
        "9ff47fbb",
        "51d9a24c",
        "9a8031b0",
        "06b3fad0",
        "a30368b2",
        "cc01c63b",
        "f70235f8",
        "b02eb802"
      ],
      "name": "annotated-diffusion.ipynb",
      "provenance": []
    },
    "jupytext": {
      "cell_metadata_filter": "-all",
      "main_language": "python",
      "notebook_metadata_filter": "-all"
    },
    "kernelspec": {
      "display_name": "Python 3 (ipykernel)",
      "language": "python",
      "name": "python3"
    },
    "language_info": {
      "codemirror_mode": {
        "name": "ipython",
        "version": 3
      },
      "file_extension": ".py",
      "mimetype": "text/x-python",
      "name": "python",
      "nbconvert_exporter": "python",
      "pygments_lexer": "ipython3",
      "version": "3.10.8"
    }
  },
  "nbformat": 4,
  "nbformat_minor": 5
}
